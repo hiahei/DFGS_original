{
 "cells": [
  {
   "cell_type": "markdown",
   "id": "aab1da56",
   "metadata": {},
   "source": [
    "# 椭圆轨道"
   ]
  },
  {
   "cell_type": "code",
   "execution_count": 3,
   "id": "adfa53a5",
   "metadata": {
    "ExecuteTime": {
     "end_time": "2024-12-20T05:07:21.136545Z",
     "start_time": "2024-12-20T05:07:21.127545Z"
    }
   },
   "outputs": [],
   "source": [
    "import torch\n",
    "import torchvision\n",
    "import numpy as np\n",
    "import importlib\n",
    "from argparse import ArgumentParser, Namespace\n",
    "from arguments import ModelParams, PipelineParams, OptimizationParams\n",
    "from gaussian_renderer import render\n",
    "from scene import Scene, GaussianModel\n",
    "import tqdm as notebook_tqdm"
   ]
  },
  {
   "cell_type": "code",
   "execution_count": 25,
   "id": "67c58a03",
   "metadata": {
    "ExecuteTime": {
     "end_time": "2024-12-20T07:15:12.267826Z",
     "start_time": "2024-12-20T07:15:12.249822Z"
    }
   },
   "outputs": [],
   "source": [
    "parser = ArgumentParser(description=\"Training script parameters\")\n",
    "lp = ModelParams(parser)\n",
    "op = OptimizationParams(parser)\n",
    "pp = PipelineParams(parser)\n",
    "parser.add_argument('--ip', type=str, default=\"127.0.0.1\")\n",
    "parser.add_argument('--port', type=int, default=6009)\n",
    "parser.add_argument('--debug_from', type=int, default=-1)\n",
    "parser.add_argument('--detect_anomaly', action='store_true', default=False)\n",
    "parser.add_argument(\"--test_iterations\", nargs=\"+\", type=int, default=[7_000, 30_000])\n",
    "parser.add_argument(\"--save_iterations\", nargs=\"+\", type=int, default=[7_000, 30_000])\n",
    "parser.add_argument(\"--quiet\", action=\"store_true\")\n",
    "parser.add_argument(\"--checkpoint_iterations\", nargs=\"+\", type=int, default=[7_000, 30_000])\n",
    "parser.add_argument(\"--start_checkpoint\", type=str, default = None)\n",
    "args = parser.parse_args([\"-s\", \"data/kitchen_8\", \"-m\", \"output/kitchen_8\"])\n",
    "dataset = lp.extract(args)\n",
    "opt = op.extract(args)\n",
    "pipe = pp.extract(args)"
   ]
  },
  {
   "cell_type": "code",
   "execution_count": 26,
   "id": "6291d469",
   "metadata": {
    "ExecuteTime": {
     "end_time": "2024-12-20T07:15:14.270189Z",
     "start_time": "2024-12-20T07:15:12.751301Z"
    }
   },
   "outputs": [
    {
     "name": "stdout",
     "output_type": "stream",
     "text": [
      "Reading camera 8/8\n",
      "Loading Training Cameras\n",
      "Loading Test Cameras\n",
      "Number of points at initialisation :  22\n"
     ]
    }
   ],
   "source": [
    "gaussians = GaussianModel(dataset.sh_degree, opt.optimizer_type)\n",
    "scene = Scene(dataset, gaussians)"
   ]
  },
  {
   "cell_type": "code",
   "execution_count": 27,
   "id": "3c9e8661",
   "metadata": {
    "ExecuteTime": {
     "end_time": "2024-12-20T07:15:14.286170Z",
     "start_time": "2024-12-20T07:15:14.272188Z"
    }
   },
   "outputs": [],
   "source": [
    "views = scene.getTrainCameras()"
   ]
  },
  {
   "cell_type": "code",
   "execution_count": 28,
   "id": "9bc81022",
   "metadata": {
    "ExecuteTime": {
     "end_time": "2024-12-20T07:15:14.535384Z",
     "start_time": "2024-12-20T07:15:14.529384Z"
    },
    "code_folding": []
   },
   "outputs": [],
   "source": [
    "poses = []\n",
    "for view in views:\n",
    "    pose = np.eye(4)\n",
    "    pose[:3] = np.concatenate([view.R.T, view.T[:, None]], 1)\n",
    "    pose = np.linalg.inv(pose)\n",
    "    pose[:, 1:3] *= -1\n",
    "    poses.append(pose)"
   ]
  },
  {
   "cell_type": "markdown",
   "id": "8818ebdc-ce2b-47dd-b10e-e55d8dee66c7",
   "metadata": {
    "ExecuteTime": {
     "end_time": "2024-12-20T07:46:06.564641Z",
     "start_time": "2024-12-20T07:46:06.553642Z"
    },
    "editable": true,
    "slideshow": {
     "slide_type": ""
    },
    "tags": []
   },
   "source": [
    "# DUSt3R"
   ]
  },
  {
   "cell_type": "code",
   "execution_count": null,
   "id": "6f84d6cf",
   "metadata": {
    "ExecuteTime": {
     "end_time": "2024-12-20T07:46:07.461485Z",
     "start_time": "2024-12-20T07:46:07.281851Z"
    },
    "scrolled": true
   },
   "outputs": [],
   "source": []
  },
  {
   "cell_type": "code",
   "execution_count": null,
   "id": "1902faf7",
   "metadata": {
    "ExecuteTime": {
     "end_time": "2024-12-20T08:27:41.064668Z",
     "start_time": "2024-12-20T08:27:41.057664Z"
    },
    "editable": true,
    "slideshow": {
     "slide_type": ""
    },
    "tags": []
   },
   "outputs": [],
   "source": []
  },
  {
   "cell_type": "code",
   "execution_count": null,
   "id": "b597d78e-9a1b-4385-8fb5-2595b4675bff",
   "metadata": {},
   "outputs": [],
   "source": []
  },
  {
   "cell_type": "code",
   "execution_count": null,
   "id": "b446bcae",
   "metadata": {
    "ExecuteTime": {
     "end_time": "2024-12-20T08:28:14.500069Z",
     "start_time": "2024-12-20T08:28:14.490035Z"
    }
   },
   "outputs": [],
   "source": []
  },
  {
   "cell_type": "code",
   "execution_count": null,
   "id": "5f26f7e2",
   "metadata": {},
   "outputs": [],
   "source": []
  },
  {
   "cell_type": "code",
   "execution_count": null,
   "id": "ae570f18",
   "metadata": {},
   "outputs": [],
   "source": []
  },
  {
   "cell_type": "code",
   "execution_count": null,
   "id": "d127dfc7-4a32-421a-a4b3-3db97040c571",
   "metadata": {},
   "outputs": [],
   "source": []
  },
  {
   "cell_type": "code",
   "execution_count": null,
   "id": "41fc5fa5-5d36-4ae6-a56c-81514ad8b8af",
   "metadata": {},
   "outputs": [],
   "source": []
  },
  {
   "cell_type": "code",
   "execution_count": null,
   "id": "2a60773f-70f2-4561-9bfd-6b26e7904b15",
   "metadata": {},
   "outputs": [],
   "source": []
  },
  {
   "cell_type": "code",
   "execution_count": null,
   "id": "94db9899-f7a7-4819-8ea9-9b49ce8e6b68",
   "metadata": {},
   "outputs": [],
   "source": []
  },
  {
   "cell_type": "code",
   "execution_count": null,
   "id": "cf18bc0a-344f-4495-87e6-443e2b9219cc",
   "metadata": {},
   "outputs": [],
   "source": []
  },
  {
   "cell_type": "code",
   "execution_count": null,
   "id": "0bec4b9a-51cc-4907-b1eb-c875d3bbc96f",
   "metadata": {},
   "outputs": [],
   "source": []
  },
  {
   "cell_type": "code",
   "execution_count": null,
   "id": "df430b8a-4a40-4304-831f-a3fbce092cec",
   "metadata": {},
   "outputs": [],
   "source": []
  },
  {
   "cell_type": "code",
   "execution_count": null,
   "id": "7516f0c8-4610-4515-91b6-ea3736ac5e19",
   "metadata": {},
   "outputs": [],
   "source": []
  },
  {
   "cell_type": "code",
   "execution_count": null,
   "id": "94df360e-94da-40b6-bd2e-425ed20021d7",
   "metadata": {},
   "outputs": [],
   "source": []
  },
  {
   "cell_type": "code",
   "execution_count": null,
   "id": "2065414f-4d07-4a42-83b4-c15cf39acdb8",
   "metadata": {},
   "outputs": [],
   "source": []
  },
  {
   "cell_type": "code",
   "execution_count": null,
   "id": "86753214-980d-4c72-8cd5-50f599ca3292",
   "metadata": {},
   "outputs": [],
   "source": []
  }
 ],
 "metadata": {
  "kernelspec": {
   "display_name": "Python 3 (ipykernel)",
   "language": "python",
   "name": "python3"
  },
  "language_info": {
   "codemirror_mode": {
    "name": "ipython",
    "version": 3
   },
   "file_extension": ".py",
   "mimetype": "text/x-python",
   "name": "python",
   "nbconvert_exporter": "python",
   "pygments_lexer": "ipython3",
   "version": "3.9.21"
  },
  "toc": {
   "base_numbering": 1,
   "nav_menu": {},
   "number_sections": true,
   "sideBar": true,
   "skip_h1_title": false,
   "title_cell": "Table of Contents",
   "title_sidebar": "Contents",
   "toc_cell": false,
   "toc_position": {},
   "toc_section_display": true,
   "toc_window_display": false
  }
 },
 "nbformat": 4,
 "nbformat_minor": 5
}
